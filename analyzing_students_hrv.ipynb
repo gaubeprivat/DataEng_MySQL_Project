{
 "cells": [
  {
   "cell_type": "markdown",
   "id": "3f4738af-2b04-458d-8009-ae653cb82daa",
   "metadata": {},
   "source": [
    "# Analysis of student grades and HRV data\n",
    "- db application_project_gaube on localhost\n",
    "- 10 Students, 3 Terms (mid1, mid2, final)\n",
    "- SDNN & nni_mean available as well as interbeat iterval data"
   ]
  },
  {
   "cell_type": "markdown",
   "id": "b600e6d9-e02e-4789-8428-9121ad29288b",
   "metadata": {},
   "source": [
    "**Questions:**\n",
    "1. Which exams turned out best?\n",
    "2. Which student performed the best?\n",
    "3. Is there a difference in the HRV for the whole recording time and the time in which the exams are written?\n",
    "4. Is there a relation between grade and HRV?"
   ]
  },
  {
   "cell_type": "markdown",
   "id": "02140809-56b2-4a8d-9ada-20901e248b93",
   "metadata": {},
   "source": [
    "## preparing"
   ]
  },
  {
   "cell_type": "code",
   "execution_count": 1,
   "id": "c589e1bf-f93f-4aad-9438-1716e56f53fb",
   "metadata": {
    "tags": []
   },
   "outputs": [
    {
     "name": "stdout",
     "output_type": "stream",
     "text": [
      "Requirement already satisfied: scipy in c:\\users\\49176\\appdata\\local\\programs\\python\\python38\\lib\\site-packages (1.10.1)\n",
      "Requirement already satisfied: numpy<1.27.0,>=1.19.5 in c:\\users\\49176\\appdata\\local\\programs\\python\\python38\\lib\\site-packages (from scipy) (1.24.3)\n",
      "Note: you may need to restart the kernel to use updated packages.\n"
     ]
    },
    {
     "name": "stderr",
     "output_type": "stream",
     "text": [
      "\n",
      "[notice] A new release of pip is available: 23.1.2 -> 23.3.1\n",
      "[notice] To update, run: python.exe -m pip install --upgrade pip\n"
     ]
    },
    {
     "name": "stdout",
     "output_type": "stream",
     "text": [
      "Requirement already satisfied: statsmodels in c:\\users\\49176\\appdata\\local\\programs\\python\\python38\\lib\\site-packages (0.14.0)\n",
      "Requirement already satisfied: numpy>=1.18 in c:\\users\\49176\\appdata\\local\\programs\\python\\python38\\lib\\site-packages (from statsmodels) (1.24.3)\n",
      "Requirement already satisfied: scipy!=1.9.2,>=1.4 in c:\\users\\49176\\appdata\\local\\programs\\python\\python38\\lib\\site-packages (from statsmodels) (1.10.1)\n",
      "Requirement already satisfied: pandas>=1.0 in c:\\users\\49176\\appdata\\local\\programs\\python\\python38\\lib\\site-packages (from statsmodels) (2.0.3)\n",
      "Requirement already satisfied: patsy>=0.5.2 in c:\\users\\49176\\appdata\\local\\programs\\python\\python38\\lib\\site-packages (from statsmodels) (0.5.3)\n",
      "Requirement already satisfied: packaging>=21.3 in c:\\users\\49176\\appdata\\local\\programs\\python\\python38\\lib\\site-packages (from statsmodels) (23.1)\n",
      "Requirement already satisfied: python-dateutil>=2.8.2 in c:\\users\\49176\\appdata\\local\\programs\\python\\python38\\lib\\site-packages (from pandas>=1.0->statsmodels) (2.8.2)\n",
      "Requirement already satisfied: pytz>=2020.1 in c:\\users\\49176\\appdata\\local\\programs\\python\\python38\\lib\\site-packages (from pandas>=1.0->statsmodels) (2023.3)\n",
      "Requirement already satisfied: tzdata>=2022.1 in c:\\users\\49176\\appdata\\local\\programs\\python\\python38\\lib\\site-packages (from pandas>=1.0->statsmodels) (2023.3)\n",
      "Requirement already satisfied: six in c:\\users\\49176\\appdata\\local\\programs\\python\\python38\\lib\\site-packages (from patsy>=0.5.2->statsmodels) (1.16.0)\n",
      "Note: you may need to restart the kernel to use updated packages.\n"
     ]
    },
    {
     "name": "stderr",
     "output_type": "stream",
     "text": [
      "\n",
      "[notice] A new release of pip is available: 23.1.2 -> 23.3.1\n",
      "[notice] To update, run: python.exe -m pip install --upgrade pip\n"
     ]
    }
   ],
   "source": [
    "%pip install scipy\n",
    "%pip install statsmodels"
   ]
  },
  {
   "cell_type": "code",
   "execution_count": 2,
   "id": "7465721f-c5b7-4827-82cf-ebfe107be8d7",
   "metadata": {
    "tags": []
   },
   "outputs": [],
   "source": [
    "import pandas as pd\n",
    "import datetime as dt\n",
    "import mysql.connector \n",
    "from scipy.stats import pearsonr\n",
    "from statsmodels.formula.api import ols"
   ]
  },
  {
   "cell_type": "code",
   "execution_count": 3,
   "id": "826edcf2-5e5a-4113-94d4-2de912358923",
   "metadata": {
    "tags": []
   },
   "outputs": [],
   "source": [
    "db = mysql.connector.connect(\n",
    "    host='localhost',\n",
    "    user='root',\n",
    "    password='',\n",
    "    database='application_project_gaube'\n",
    ")\n",
    "cursor = db.cursor()"
   ]
  },
  {
   "cell_type": "markdown",
   "id": "93b20bf1-35b2-4586-a051-2cdd717498d4",
   "metadata": {},
   "source": [
    "## getting answers"
   ]
  },
  {
   "cell_type": "markdown",
   "id": "1b3ee448-9288-4745-8521-7745d9ab9723",
   "metadata": {},
   "source": [
    "### 1. Which exams turned out best?"
   ]
  },
  {
   "cell_type": "code",
   "execution_count": 4,
   "id": "51e71061-60af-43a5-9795-bdf6150cc95c",
   "metadata": {
    "tags": []
   },
   "outputs": [],
   "source": [
    "query_q1 = \"\"\"\n",
    "    SELECT\n",
    "        e.id,\n",
    "        e.term,\n",
    "        AVG(md.grade) AS average_grade\n",
    "    FROM\n",
    "        master_data md\n",
    "    JOIN exam e ON md.term_id = e.id\n",
    "    JOIN dataset d ON md.student_id = d.id\n",
    "    GROUP BY\n",
    "        e.id, e.term;\n",
    "    \"\"\""
   ]
  },
  {
   "cell_type": "code",
   "execution_count": 5,
   "id": "5d13e331-584d-411e-8027-35e79b5fac34",
   "metadata": {
    "tags": []
   },
   "outputs": [
    {
     "name": "stderr",
     "output_type": "stream",
     "text": [
      "C:\\Users\\49176\\AppData\\Local\\Temp\\ipykernel_1748\\1651071942.py:1: UserWarning: pandas only supports SQLAlchemy connectable (engine/connection) or database string URI or sqlite3 DBAPI2 connection. Other DBAPI2 objects are not tested. Please consider using SQLAlchemy.\n",
      "  df_q1 = pd.read_sql(query_q1, db)\n"
     ]
    }
   ],
   "source": [
    "df_q1 = pd.read_sql(query_q1, db)\n",
    "\n",
    "# dividing the final-grade by two because there are twice of the points possible\n",
    "df_q1.loc[df_q1['term'] == 'final', 'average_grade'] = df_q1.loc[df_q1['term'] == 'final', 'average_grade'] / 2"
   ]
  },
  {
   "cell_type": "code",
   "execution_count": 6,
   "id": "5b8114da-a1ae-4541-9666-4a6b983c2c0d",
   "metadata": {
    "tags": []
   },
   "outputs": [
    {
     "data": {
      "text/html": [
       "<div>\n",
       "<style scoped>\n",
       "    .dataframe tbody tr th:only-of-type {\n",
       "        vertical-align: middle;\n",
       "    }\n",
       "\n",
       "    .dataframe tbody tr th {\n",
       "        vertical-align: top;\n",
       "    }\n",
       "\n",
       "    .dataframe thead th {\n",
       "        text-align: right;\n",
       "    }\n",
       "</style>\n",
       "<table border=\"1\" class=\"dataframe\">\n",
       "  <thead>\n",
       "    <tr style=\"text-align: right;\">\n",
       "      <th></th>\n",
       "      <th>id</th>\n",
       "      <th>term</th>\n",
       "      <th>average_grade</th>\n",
       "    </tr>\n",
       "  </thead>\n",
       "  <tbody>\n",
       "    <tr>\n",
       "      <th>0</th>\n",
       "      <td>1</td>\n",
       "      <td>mid1</td>\n",
       "      <td>77.50</td>\n",
       "    </tr>\n",
       "    <tr>\n",
       "      <th>1</th>\n",
       "      <td>2</td>\n",
       "      <td>mid2</td>\n",
       "      <td>69.90</td>\n",
       "    </tr>\n",
       "    <tr>\n",
       "      <th>2</th>\n",
       "      <td>3</td>\n",
       "      <td>final</td>\n",
       "      <td>78.35</td>\n",
       "    </tr>\n",
       "  </tbody>\n",
       "</table>\n",
       "</div>"
      ],
      "text/plain": [
       "   id   term  average_grade\n",
       "0   1   mid1          77.50\n",
       "1   2   mid2          69.90\n",
       "2   3  final          78.35"
      ]
     },
     "execution_count": 6,
     "metadata": {},
     "output_type": "execute_result"
    }
   ],
   "source": [
    "df_q1"
   ]
  },
  {
   "cell_type": "markdown",
   "id": "96b04610-3f65-449a-b3e3-b14fc485a249",
   "metadata": {},
   "source": [
    "Answer: *The students perforemd in the final tests best*"
   ]
  },
  {
   "cell_type": "markdown",
   "id": "1f62041a-3112-4076-8ff6-e0859a9dce2e",
   "metadata": {},
   "source": [
    "### 2. Which student performed the best?"
   ]
  },
  {
   "cell_type": "code",
   "execution_count": 7,
   "id": "8ad67776-2b29-4ad2-9496-1a15472f0721",
   "metadata": {
    "tags": []
   },
   "outputs": [],
   "source": [
    "query_q2 = \"\"\"\n",
    "    SELECT\n",
    "        d.student AS student,\n",
    "        SUM(md.grade) AS total_points\n",
    "    FROM\n",
    "        master_data md\n",
    "    JOIN exam e ON md.term_id = e.id\n",
    "    JOIN dataset d ON md.student_id = d.id\n",
    "    GROUP BY\n",
    "        d.student;\n",
    "\"\"\""
   ]
  },
  {
   "cell_type": "code",
   "execution_count": 8,
   "id": "117b536b-d506-47a8-bb41-238074a81fa4",
   "metadata": {
    "tags": []
   },
   "outputs": [
    {
     "name": "stderr",
     "output_type": "stream",
     "text": [
      "C:\\Users\\49176\\AppData\\Local\\Temp\\ipykernel_1748\\2177194635.py:1: UserWarning: pandas only supports SQLAlchemy connectable (engine/connection) or database string URI or sqlite3 DBAPI2 connection. Other DBAPI2 objects are not tested. Please consider using SQLAlchemy.\n",
      "  df_q2 = pd.read_sql(query_q2, db)\n"
     ]
    }
   ],
   "source": [
    "df_q2 = pd.read_sql(query_q2, db)"
   ]
  },
  {
   "cell_type": "code",
   "execution_count": 9,
   "id": "c4a46c30-1c78-4ab1-9943-debd8e679fa8",
   "metadata": {
    "tags": []
   },
   "outputs": [
    {
     "data": {
      "text/html": [
       "<div>\n",
       "<style scoped>\n",
       "    .dataframe tbody tr th:only-of-type {\n",
       "        vertical-align: middle;\n",
       "    }\n",
       "\n",
       "    .dataframe tbody tr th {\n",
       "        vertical-align: top;\n",
       "    }\n",
       "\n",
       "    .dataframe thead th {\n",
       "        text-align: right;\n",
       "    }\n",
       "</style>\n",
       "<table border=\"1\" class=\"dataframe\">\n",
       "  <thead>\n",
       "    <tr style=\"text-align: right;\">\n",
       "      <th></th>\n",
       "      <th>student</th>\n",
       "      <th>total_points</th>\n",
       "    </tr>\n",
       "  </thead>\n",
       "  <tbody>\n",
       "    <tr>\n",
       "      <th>8</th>\n",
       "      <td>S8</td>\n",
       "      <td>364.0</td>\n",
       "    </tr>\n",
       "    <tr>\n",
       "      <th>3</th>\n",
       "      <td>S3</td>\n",
       "      <td>355.0</td>\n",
       "    </tr>\n",
       "    <tr>\n",
       "      <th>2</th>\n",
       "      <td>S2</td>\n",
       "      <td>347.0</td>\n",
       "    </tr>\n",
       "    <tr>\n",
       "      <th>0</th>\n",
       "      <td>S1</td>\n",
       "      <td>342.0</td>\n",
       "    </tr>\n",
       "    <tr>\n",
       "      <th>6</th>\n",
       "      <td>S6</td>\n",
       "      <td>310.0</td>\n",
       "    </tr>\n",
       "    <tr>\n",
       "      <th>4</th>\n",
       "      <td>S4</td>\n",
       "      <td>301.0</td>\n",
       "    </tr>\n",
       "    <tr>\n",
       "      <th>5</th>\n",
       "      <td>S5</td>\n",
       "      <td>301.0</td>\n",
       "    </tr>\n",
       "    <tr>\n",
       "      <th>1</th>\n",
       "      <td>S10</td>\n",
       "      <td>269.0</td>\n",
       "    </tr>\n",
       "    <tr>\n",
       "      <th>9</th>\n",
       "      <td>S9</td>\n",
       "      <td>245.0</td>\n",
       "    </tr>\n",
       "    <tr>\n",
       "      <th>7</th>\n",
       "      <td>S7</td>\n",
       "      <td>207.0</td>\n",
       "    </tr>\n",
       "  </tbody>\n",
       "</table>\n",
       "</div>"
      ],
      "text/plain": [
       "  student  total_points\n",
       "8      S8         364.0\n",
       "3      S3         355.0\n",
       "2      S2         347.0\n",
       "0      S1         342.0\n",
       "6      S6         310.0\n",
       "4      S4         301.0\n",
       "5      S5         301.0\n",
       "1     S10         269.0\n",
       "9      S9         245.0\n",
       "7      S7         207.0"
      ]
     },
     "execution_count": 9,
     "metadata": {},
     "output_type": "execute_result"
    }
   ],
   "source": [
    "df_q2.sort_values(by='total_points', ascending=False)"
   ]
  },
  {
   "cell_type": "markdown",
   "id": "63dd8e05-86c3-4340-aa0c-384f6e68f562",
   "metadata": {},
   "source": [
    "Answer: *Student S8 perforemd the best*"
   ]
  },
  {
   "cell_type": "markdown",
   "id": "922e0a55-bf74-4fee-899b-2dec8e9dcd9e",
   "metadata": {},
   "source": [
    "### 3. Is there a difference in the HRV for the whole recording time and the time in which the exams are written?\n",
    "- the hrv is stored as moving_avarage values for the time of exam and as aggregated value for each recoding\n",
    "- I use the ibi data instead of the 5min moving_avarage data for the mean and the sd of the ibi's during exams\n",
    "- the timestamps of the term-periods are as followed:\n",
    "    - mid1: (1539439200, 1539444600)\n",
    "    - mid2: (1541862000, 1541867400)\n",
    "    - final: (1544022000, 1544032800)"
   ]
  },
  {
   "cell_type": "markdown",
   "id": "5005b236-a447-4afb-b498-6ca98f503d91",
   "metadata": {
    "tags": []
   },
   "source": [
    "#### calculationg sdnn and nni_mean for term-period"
   ]
  },
  {
   "cell_type": "code",
   "execution_count": 10,
   "id": "d1e342ec-01ec-48e9-ab1d-eb79e1ec43bd",
   "metadata": {
    "tags": []
   },
   "outputs": [],
   "source": [
    "query_q3a = \"\"\"\n",
    "    SELECT\n",
    "        d.student,\n",
    "        e.term,\n",
    "        ibi.ibi_value\n",
    "    FROM\n",
    "        inter_beat_interval ibi\n",
    "    JOIN\n",
    "        dataset d ON ibi.student_id = d.id\n",
    "    JOIN\n",
    "        exam e ON ibi.term_id = e.id\n",
    "    WHERE\n",
    "        (ibi.term_id = 1 AND ibi.timestamp BETWEEN 1539439200 AND 1539444600)\n",
    "        OR\n",
    "        (ibi.term_id = 2 AND ibi.timestamp BETWEEN 1541862000 AND 1541867400)\n",
    "        OR\n",
    "        (ibi.term_id = 3 AND ibi.timestamp BETWEEN 1544022000 AND 1544032800)\n",
    "\"\"\""
   ]
  },
  {
   "cell_type": "code",
   "execution_count": 11,
   "id": "a9f72e66-6935-4f43-b13f-8ec7859d3792",
   "metadata": {
    "tags": []
   },
   "outputs": [
    {
     "name": "stderr",
     "output_type": "stream",
     "text": [
      "C:\\Users\\49176\\AppData\\Local\\Temp\\ipykernel_1748\\1691655406.py:1: UserWarning: pandas only supports SQLAlchemy connectable (engine/connection) or database string URI or sqlite3 DBAPI2 connection. Other DBAPI2 objects are not tested. Please consider using SQLAlchemy.\n",
      "  df_q3a = pd.read_sql(query_q3a, db)\n"
     ]
    }
   ],
   "source": [
    "df_q3a = pd.read_sql(query_q3a, db)"
   ]
  },
  {
   "cell_type": "code",
   "execution_count": 12,
   "id": "f0f5b348-6da7-41d8-98a2-9aff45986e06",
   "metadata": {
    "tags": []
   },
   "outputs": [],
   "source": [
    "students_list = list(df_q3a.student.unique())\n",
    "term_list = list(df_q3a.term.unique())"
   ]
  },
  {
   "cell_type": "code",
   "execution_count": 13,
   "id": "a712f3c5-f63c-4150-921e-31e7965b85e0",
   "metadata": {
    "tags": []
   },
   "outputs": [],
   "source": [
    "data_list = []\n",
    "for stud in students_list:\n",
    "    for examen in term_list:\n",
    "        data_list.append({\n",
    "            'student': stud,\n",
    "            'term': examen,\n",
    "            'nni_mean_examen': df_q3a.query('@stud == student and @examen == term').ibi_value.mean().round(2),\n",
    "            'sdnn_examen': df_q3a.query('@stud == student and @examen == term').ibi_value.std().round(2)\n",
    "\n",
    "    })\n",
    "\n",
    "df_q3a= pd.DataFrame(data_list)"
   ]
  },
  {
   "cell_type": "markdown",
   "id": "049e879c-4c55-45c6-ad90-7c33914f0652",
   "metadata": {},
   "source": [
    "#### getting HRV for the whole recoding time"
   ]
  },
  {
   "cell_type": "code",
   "execution_count": 14,
   "id": "f2abf182-6cac-4227-ad23-b596093e6ef6",
   "metadata": {
    "tags": []
   },
   "outputs": [],
   "source": [
    "query_q3b = \"\"\"\n",
    "    SELECT\n",
    "        d.student,\n",
    "        e.term,\n",
    "        md.nni_mean AS nni_mean_whole,\n",
    "        md.sdnn AS sdnn_whole\n",
    "    FROM\n",
    "        master_data md\n",
    "    JOIN\n",
    "        dataset d ON md.student_id = d.id\n",
    "    JOIN\n",
    "        exam e ON md.term_id = e.id\n",
    "\"\"\""
   ]
  },
  {
   "cell_type": "code",
   "execution_count": 15,
   "id": "39d70575-9c24-491a-8b63-194997d1f9d2",
   "metadata": {
    "tags": []
   },
   "outputs": [
    {
     "name": "stderr",
     "output_type": "stream",
     "text": [
      "C:\\Users\\49176\\AppData\\Local\\Temp\\ipykernel_1748\\3555222216.py:1: UserWarning: pandas only supports SQLAlchemy connectable (engine/connection) or database string URI or sqlite3 DBAPI2 connection. Other DBAPI2 objects are not tested. Please consider using SQLAlchemy.\n",
      "  df_q3b = pd.read_sql(query_q3b, db)\n"
     ]
    }
   ],
   "source": [
    "df_q3b = pd.read_sql(query_q3b, db)"
   ]
  },
  {
   "cell_type": "code",
   "execution_count": 16,
   "id": "b8159d15-a909-4deb-b19f-f62f870b1cdf",
   "metadata": {
    "tags": []
   },
   "outputs": [],
   "source": [
    "df_q3 = df_q3a.merge(df_q3b, on=['student', 'term'], how='inner')\n",
    "df_q3['nni_mean_diff'] = df_q3['nni_mean_examen'] - df_q3['nni_mean_whole']\n",
    "df_q3['sdnn_diff'] = df_q3['sdnn_examen'] - df_q3['sdnn_whole']"
   ]
  },
  {
   "cell_type": "markdown",
   "id": "7830cde3-58d0-4a32-bd96-fa286976724c",
   "metadata": {},
   "source": [
    "Note: *The HRV for the whole recording time is suptracted from the HRV during examen*"
   ]
  },
  {
   "cell_type": "code",
   "execution_count": 17,
   "id": "680ad09a-2d12-4e24-9071-30a1714aec55",
   "metadata": {
    "tags": []
   },
   "outputs": [
    {
     "data": {
      "text/html": [
       "<div>\n",
       "<style scoped>\n",
       "    .dataframe tbody tr th:only-of-type {\n",
       "        vertical-align: middle;\n",
       "    }\n",
       "\n",
       "    .dataframe tbody tr th {\n",
       "        vertical-align: top;\n",
       "    }\n",
       "\n",
       "    .dataframe thead th {\n",
       "        text-align: right;\n",
       "    }\n",
       "</style>\n",
       "<table border=\"1\" class=\"dataframe\">\n",
       "  <thead>\n",
       "    <tr style=\"text-align: right;\">\n",
       "      <th></th>\n",
       "      <th>student</th>\n",
       "      <th>term</th>\n",
       "      <th>nni_mean_examen</th>\n",
       "      <th>sdnn_examen</th>\n",
       "      <th>nni_mean_whole</th>\n",
       "      <th>sdnn_whole</th>\n",
       "      <th>nni_mean_diff</th>\n",
       "      <th>sdnn_diff</th>\n",
       "    </tr>\n",
       "  </thead>\n",
       "  <tbody>\n",
       "    <tr>\n",
       "      <th>0</th>\n",
       "      <td>S1</td>\n",
       "      <td>mid1</td>\n",
       "      <td>500.39</td>\n",
       "      <td>145.95</td>\n",
       "      <td>506.85</td>\n",
       "      <td>120.73</td>\n",
       "      <td>-6.46</td>\n",
       "      <td>25.22</td>\n",
       "    </tr>\n",
       "    <tr>\n",
       "      <th>1</th>\n",
       "      <td>S1</td>\n",
       "      <td>mid2</td>\n",
       "      <td>518.70</td>\n",
       "      <td>50.89</td>\n",
       "      <td>514.85</td>\n",
       "      <td>56.75</td>\n",
       "      <td>3.85</td>\n",
       "      <td>-5.86</td>\n",
       "    </tr>\n",
       "    <tr>\n",
       "      <th>2</th>\n",
       "      <td>S1</td>\n",
       "      <td>final</td>\n",
       "      <td>546.20</td>\n",
       "      <td>74.82</td>\n",
       "      <td>563.94</td>\n",
       "      <td>80.10</td>\n",
       "      <td>-17.74</td>\n",
       "      <td>-5.28</td>\n",
       "    </tr>\n",
       "    <tr>\n",
       "      <th>3</th>\n",
       "      <td>S10</td>\n",
       "      <td>mid1</td>\n",
       "      <td>560.73</td>\n",
       "      <td>216.00</td>\n",
       "      <td>512.53</td>\n",
       "      <td>154.06</td>\n",
       "      <td>48.20</td>\n",
       "      <td>61.94</td>\n",
       "    </tr>\n",
       "    <tr>\n",
       "      <th>4</th>\n",
       "      <td>S10</td>\n",
       "      <td>mid2</td>\n",
       "      <td>691.13</td>\n",
       "      <td>59.26</td>\n",
       "      <td>674.82</td>\n",
       "      <td>84.12</td>\n",
       "      <td>16.31</td>\n",
       "      <td>-24.86</td>\n",
       "    </tr>\n",
       "    <tr>\n",
       "      <th>5</th>\n",
       "      <td>S10</td>\n",
       "      <td>final</td>\n",
       "      <td>708.14</td>\n",
       "      <td>79.21</td>\n",
       "      <td>714.13</td>\n",
       "      <td>89.57</td>\n",
       "      <td>-5.99</td>\n",
       "      <td>-10.36</td>\n",
       "    </tr>\n",
       "    <tr>\n",
       "      <th>6</th>\n",
       "      <td>S2</td>\n",
       "      <td>mid1</td>\n",
       "      <td>654.44</td>\n",
       "      <td>244.50</td>\n",
       "      <td>532.73</td>\n",
       "      <td>137.46</td>\n",
       "      <td>121.71</td>\n",
       "      <td>107.04</td>\n",
       "    </tr>\n",
       "    <tr>\n",
       "      <th>7</th>\n",
       "      <td>S2</td>\n",
       "      <td>mid2</td>\n",
       "      <td>618.44</td>\n",
       "      <td>61.15</td>\n",
       "      <td>611.59</td>\n",
       "      <td>87.09</td>\n",
       "      <td>6.85</td>\n",
       "      <td>-25.94</td>\n",
       "    </tr>\n",
       "    <tr>\n",
       "      <th>8</th>\n",
       "      <td>S2</td>\n",
       "      <td>final</td>\n",
       "      <td>546.07</td>\n",
       "      <td>52.88</td>\n",
       "      <td>565.42</td>\n",
       "      <td>56.00</td>\n",
       "      <td>-19.35</td>\n",
       "      <td>-3.12</td>\n",
       "    </tr>\n",
       "    <tr>\n",
       "      <th>9</th>\n",
       "      <td>S3</td>\n",
       "      <td>mid1</td>\n",
       "      <td>677.15</td>\n",
       "      <td>228.68</td>\n",
       "      <td>554.05</td>\n",
       "      <td>139.93</td>\n",
       "      <td>123.10</td>\n",
       "      <td>88.75</td>\n",
       "    </tr>\n",
       "    <tr>\n",
       "      <th>10</th>\n",
       "      <td>S3</td>\n",
       "      <td>mid2</td>\n",
       "      <td>645.59</td>\n",
       "      <td>51.78</td>\n",
       "      <td>635.59</td>\n",
       "      <td>81.11</td>\n",
       "      <td>10.00</td>\n",
       "      <td>-29.33</td>\n",
       "    </tr>\n",
       "    <tr>\n",
       "      <th>11</th>\n",
       "      <td>S3</td>\n",
       "      <td>final</td>\n",
       "      <td>638.28</td>\n",
       "      <td>73.85</td>\n",
       "      <td>663.84</td>\n",
       "      <td>72.88</td>\n",
       "      <td>-25.56</td>\n",
       "      <td>0.97</td>\n",
       "    </tr>\n",
       "    <tr>\n",
       "      <th>12</th>\n",
       "      <td>S4</td>\n",
       "      <td>mid1</td>\n",
       "      <td>483.61</td>\n",
       "      <td>124.54</td>\n",
       "      <td>481.79</td>\n",
       "      <td>130.53</td>\n",
       "      <td>1.82</td>\n",
       "      <td>-5.99</td>\n",
       "    </tr>\n",
       "    <tr>\n",
       "      <th>13</th>\n",
       "      <td>S4</td>\n",
       "      <td>mid2</td>\n",
       "      <td>858.35</td>\n",
       "      <td>115.03</td>\n",
       "      <td>627.76</td>\n",
       "      <td>203.76</td>\n",
       "      <td>230.59</td>\n",
       "      <td>-88.73</td>\n",
       "    </tr>\n",
       "    <tr>\n",
       "      <th>14</th>\n",
       "      <td>S4</td>\n",
       "      <td>final</td>\n",
       "      <td>777.80</td>\n",
       "      <td>93.86</td>\n",
       "      <td>803.49</td>\n",
       "      <td>105.72</td>\n",
       "      <td>-25.69</td>\n",
       "      <td>-11.86</td>\n",
       "    </tr>\n",
       "    <tr>\n",
       "      <th>15</th>\n",
       "      <td>S5</td>\n",
       "      <td>mid1</td>\n",
       "      <td>509.32</td>\n",
       "      <td>177.97</td>\n",
       "      <td>507.79</td>\n",
       "      <td>129.30</td>\n",
       "      <td>1.53</td>\n",
       "      <td>48.67</td>\n",
       "    </tr>\n",
       "    <tr>\n",
       "      <th>16</th>\n",
       "      <td>S5</td>\n",
       "      <td>mid2</td>\n",
       "      <td>542.18</td>\n",
       "      <td>36.65</td>\n",
       "      <td>546.48</td>\n",
       "      <td>42.86</td>\n",
       "      <td>-4.30</td>\n",
       "      <td>-6.21</td>\n",
       "    </tr>\n",
       "    <tr>\n",
       "      <th>17</th>\n",
       "      <td>S5</td>\n",
       "      <td>final</td>\n",
       "      <td>585.87</td>\n",
       "      <td>71.81</td>\n",
       "      <td>611.40</td>\n",
       "      <td>80.65</td>\n",
       "      <td>-25.53</td>\n",
       "      <td>-8.84</td>\n",
       "    </tr>\n",
       "    <tr>\n",
       "      <th>18</th>\n",
       "      <td>S6</td>\n",
       "      <td>mid1</td>\n",
       "      <td>528.43</td>\n",
       "      <td>232.36</td>\n",
       "      <td>528.98</td>\n",
       "      <td>117.77</td>\n",
       "      <td>-0.55</td>\n",
       "      <td>114.59</td>\n",
       "    </tr>\n",
       "    <tr>\n",
       "      <th>19</th>\n",
       "      <td>S6</td>\n",
       "      <td>mid2</td>\n",
       "      <td>771.85</td>\n",
       "      <td>92.41</td>\n",
       "      <td>734.72</td>\n",
       "      <td>138.35</td>\n",
       "      <td>37.13</td>\n",
       "      <td>-45.94</td>\n",
       "    </tr>\n",
       "    <tr>\n",
       "      <th>20</th>\n",
       "      <td>S6</td>\n",
       "      <td>final</td>\n",
       "      <td>780.16</td>\n",
       "      <td>127.28</td>\n",
       "      <td>811.42</td>\n",
       "      <td>129.51</td>\n",
       "      <td>-31.26</td>\n",
       "      <td>-2.23</td>\n",
       "    </tr>\n",
       "    <tr>\n",
       "      <th>21</th>\n",
       "      <td>S7</td>\n",
       "      <td>mid1</td>\n",
       "      <td>544.61</td>\n",
       "      <td>226.18</td>\n",
       "      <td>501.25</td>\n",
       "      <td>172.81</td>\n",
       "      <td>43.36</td>\n",
       "      <td>53.37</td>\n",
       "    </tr>\n",
       "    <tr>\n",
       "      <th>22</th>\n",
       "      <td>S7</td>\n",
       "      <td>mid2</td>\n",
       "      <td>733.73</td>\n",
       "      <td>69.89</td>\n",
       "      <td>655.55</td>\n",
       "      <td>161.63</td>\n",
       "      <td>78.18</td>\n",
       "      <td>-91.74</td>\n",
       "    </tr>\n",
       "    <tr>\n",
       "      <th>23</th>\n",
       "      <td>S7</td>\n",
       "      <td>final</td>\n",
       "      <td>619.27</td>\n",
       "      <td>140.74</td>\n",
       "      <td>678.03</td>\n",
       "      <td>132.70</td>\n",
       "      <td>-58.76</td>\n",
       "      <td>8.04</td>\n",
       "    </tr>\n",
       "    <tr>\n",
       "      <th>24</th>\n",
       "      <td>S8</td>\n",
       "      <td>mid1</td>\n",
       "      <td>448.67</td>\n",
       "      <td>110.62</td>\n",
       "      <td>433.37</td>\n",
       "      <td>93.97</td>\n",
       "      <td>15.30</td>\n",
       "      <td>16.65</td>\n",
       "    </tr>\n",
       "    <tr>\n",
       "      <th>25</th>\n",
       "      <td>S8</td>\n",
       "      <td>mid2</td>\n",
       "      <td>646.89</td>\n",
       "      <td>101.14</td>\n",
       "      <td>626.85</td>\n",
       "      <td>140.43</td>\n",
       "      <td>20.04</td>\n",
       "      <td>-39.29</td>\n",
       "    </tr>\n",
       "    <tr>\n",
       "      <th>26</th>\n",
       "      <td>S8</td>\n",
       "      <td>final</td>\n",
       "      <td>530.05</td>\n",
       "      <td>119.64</td>\n",
       "      <td>605.80</td>\n",
       "      <td>114.30</td>\n",
       "      <td>-75.75</td>\n",
       "      <td>5.34</td>\n",
       "    </tr>\n",
       "    <tr>\n",
       "      <th>27</th>\n",
       "      <td>S9</td>\n",
       "      <td>mid1</td>\n",
       "      <td>558.23</td>\n",
       "      <td>220.42</td>\n",
       "      <td>498.34</td>\n",
       "      <td>155.17</td>\n",
       "      <td>59.89</td>\n",
       "      <td>65.25</td>\n",
       "    </tr>\n",
       "    <tr>\n",
       "      <th>28</th>\n",
       "      <td>S9</td>\n",
       "      <td>mid2</td>\n",
       "      <td>681.96</td>\n",
       "      <td>68.41</td>\n",
       "      <td>667.83</td>\n",
       "      <td>80.95</td>\n",
       "      <td>14.13</td>\n",
       "      <td>-12.54</td>\n",
       "    </tr>\n",
       "    <tr>\n",
       "      <th>29</th>\n",
       "      <td>S9</td>\n",
       "      <td>final</td>\n",
       "      <td>708.78</td>\n",
       "      <td>89.61</td>\n",
       "      <td>729.11</td>\n",
       "      <td>93.38</td>\n",
       "      <td>-20.33</td>\n",
       "      <td>-3.77</td>\n",
       "    </tr>\n",
       "  </tbody>\n",
       "</table>\n",
       "</div>"
      ],
      "text/plain": [
       "   student   term  nni_mean_examen  sdnn_examen  nni_mean_whole  sdnn_whole  \\\n",
       "0       S1   mid1           500.39       145.95          506.85      120.73   \n",
       "1       S1   mid2           518.70        50.89          514.85       56.75   \n",
       "2       S1  final           546.20        74.82          563.94       80.10   \n",
       "3      S10   mid1           560.73       216.00          512.53      154.06   \n",
       "4      S10   mid2           691.13        59.26          674.82       84.12   \n",
       "5      S10  final           708.14        79.21          714.13       89.57   \n",
       "6       S2   mid1           654.44       244.50          532.73      137.46   \n",
       "7       S2   mid2           618.44        61.15          611.59       87.09   \n",
       "8       S2  final           546.07        52.88          565.42       56.00   \n",
       "9       S3   mid1           677.15       228.68          554.05      139.93   \n",
       "10      S3   mid2           645.59        51.78          635.59       81.11   \n",
       "11      S3  final           638.28        73.85          663.84       72.88   \n",
       "12      S4   mid1           483.61       124.54          481.79      130.53   \n",
       "13      S4   mid2           858.35       115.03          627.76      203.76   \n",
       "14      S4  final           777.80        93.86          803.49      105.72   \n",
       "15      S5   mid1           509.32       177.97          507.79      129.30   \n",
       "16      S5   mid2           542.18        36.65          546.48       42.86   \n",
       "17      S5  final           585.87        71.81          611.40       80.65   \n",
       "18      S6   mid1           528.43       232.36          528.98      117.77   \n",
       "19      S6   mid2           771.85        92.41          734.72      138.35   \n",
       "20      S6  final           780.16       127.28          811.42      129.51   \n",
       "21      S7   mid1           544.61       226.18          501.25      172.81   \n",
       "22      S7   mid2           733.73        69.89          655.55      161.63   \n",
       "23      S7  final           619.27       140.74          678.03      132.70   \n",
       "24      S8   mid1           448.67       110.62          433.37       93.97   \n",
       "25      S8   mid2           646.89       101.14          626.85      140.43   \n",
       "26      S8  final           530.05       119.64          605.80      114.30   \n",
       "27      S9   mid1           558.23       220.42          498.34      155.17   \n",
       "28      S9   mid2           681.96        68.41          667.83       80.95   \n",
       "29      S9  final           708.78        89.61          729.11       93.38   \n",
       "\n",
       "    nni_mean_diff  sdnn_diff  \n",
       "0           -6.46      25.22  \n",
       "1            3.85      -5.86  \n",
       "2          -17.74      -5.28  \n",
       "3           48.20      61.94  \n",
       "4           16.31     -24.86  \n",
       "5           -5.99     -10.36  \n",
       "6          121.71     107.04  \n",
       "7            6.85     -25.94  \n",
       "8          -19.35      -3.12  \n",
       "9          123.10      88.75  \n",
       "10          10.00     -29.33  \n",
       "11         -25.56       0.97  \n",
       "12           1.82      -5.99  \n",
       "13         230.59     -88.73  \n",
       "14         -25.69     -11.86  \n",
       "15           1.53      48.67  \n",
       "16          -4.30      -6.21  \n",
       "17         -25.53      -8.84  \n",
       "18          -0.55     114.59  \n",
       "19          37.13     -45.94  \n",
       "20         -31.26      -2.23  \n",
       "21          43.36      53.37  \n",
       "22          78.18     -91.74  \n",
       "23         -58.76       8.04  \n",
       "24          15.30      16.65  \n",
       "25          20.04     -39.29  \n",
       "26         -75.75       5.34  \n",
       "27          59.89      65.25  \n",
       "28          14.13     -12.54  \n",
       "29         -20.33      -3.77  "
      ]
     },
     "execution_count": 17,
     "metadata": {},
     "output_type": "execute_result"
    }
   ],
   "source": [
    "df_q3"
   ]
  },
  {
   "cell_type": "code",
   "execution_count": 18,
   "id": "5747eb4c-5943-4da6-9416-b6aae0fdaff9",
   "metadata": {
    "tags": []
   },
   "outputs": [
    {
     "name": "stdout",
     "output_type": "stream",
     "text": [
      "nni_mean: 17.16, sdnn: 5.8\n"
     ]
    }
   ],
   "source": [
    "print(f'nni_mean: {df_q3.nni_mean_diff.mean().round(2)}, sdnn: {df_q3.sdnn_diff.mean().round(2)}')"
   ]
  },
  {
   "cell_type": "markdown",
   "id": "ef83a2bf-0d9c-44d4-8688-c0784663440f",
   "metadata": {},
   "source": [
    "Answer: *Over all students and all exams it seems that the HRV Time Domain measurements NNI mean and SDNN are higher during examen*"
   ]
  },
  {
   "cell_type": "markdown",
   "id": "44383dff-7119-41e4-8c57-3dbf464c4f19",
   "metadata": {},
   "source": [
    "### 4. Is there a relation between grade and HRV?"
   ]
  },
  {
   "cell_type": "code",
   "execution_count": 19,
   "id": "9d779053-4ab0-4251-89da-d3b7417fdf73",
   "metadata": {
    "tags": []
   },
   "outputs": [],
   "source": [
    "query_q4 = \"\"\"\n",
    "    SELECT\n",
    "        d.student,\n",
    "        e.term,\n",
    "        md.grade\n",
    "    FROM\n",
    "        master_data md\n",
    "    JOIN\n",
    "        dataset d ON md.student_id = d.id\n",
    "    JOIN\n",
    "        exam e ON md.term_id = e.id\n",
    "\"\"\""
   ]
  },
  {
   "cell_type": "code",
   "execution_count": 20,
   "id": "60006d53-c21d-443f-b337-2662611f8208",
   "metadata": {
    "tags": []
   },
   "outputs": [
    {
     "name": "stderr",
     "output_type": "stream",
     "text": [
      "C:\\Users\\49176\\AppData\\Local\\Temp\\ipykernel_1748\\3026019635.py:1: UserWarning: pandas only supports SQLAlchemy connectable (engine/connection) or database string URI or sqlite3 DBAPI2 connection. Other DBAPI2 objects are not tested. Please consider using SQLAlchemy.\n",
      "  df_q4 = pd.read_sql(query_q4, db)\n"
     ]
    }
   ],
   "source": [
    "df_q4 = pd.read_sql(query_q4, db)"
   ]
  },
  {
   "cell_type": "code",
   "execution_count": 21,
   "id": "601e492a-1277-405b-a400-6fd98728a0f5",
   "metadata": {
    "tags": []
   },
   "outputs": [],
   "source": [
    "df_q4 = df_q4.merge(df_q3[['student', 'term', 'nni_mean_examen', 'sdnn_examen']], on=['student', 'term'], how='inner')"
   ]
  },
  {
   "cell_type": "code",
   "execution_count": 22,
   "id": "fecebf3e-d1eb-4f8d-8074-947337d32ef0",
   "metadata": {
    "tags": []
   },
   "outputs": [],
   "source": [
    "results_q4a = []\n",
    "for examen in list(df_q4.term.unique()):\n",
    "    subset = df_q4.query('term == @examen')\n",
    "    for par in ['nni_mean_examen', 'sdnn_examen']:\n",
    "        cor, p = pearsonr(subset.grade, subset[par])\n",
    "        results_q4a.append({\n",
    "            'term': examen,\n",
    "            'parameter': par[:-7],\n",
    "            'p': p,\n",
    "            'cor': cor\n",
    "        })\n",
    "results_q4a = pd.DataFrame(results_q4a)"
   ]
  },
  {
   "cell_type": "code",
   "execution_count": 23,
   "id": "a14e5b5e-2a4d-4af0-b91c-7810bda34b21",
   "metadata": {
    "tags": []
   },
   "outputs": [
    {
     "data": {
      "text/html": [
       "<div>\n",
       "<style scoped>\n",
       "    .dataframe tbody tr th:only-of-type {\n",
       "        vertical-align: middle;\n",
       "    }\n",
       "\n",
       "    .dataframe tbody tr th {\n",
       "        vertical-align: top;\n",
       "    }\n",
       "\n",
       "    .dataframe thead th {\n",
       "        text-align: right;\n",
       "    }\n",
       "</style>\n",
       "<table border=\"1\" class=\"dataframe\">\n",
       "  <thead>\n",
       "    <tr style=\"text-align: right;\">\n",
       "      <th></th>\n",
       "      <th>term</th>\n",
       "      <th>parameter</th>\n",
       "      <th>p</th>\n",
       "      <th>cor</th>\n",
       "    </tr>\n",
       "  </thead>\n",
       "  <tbody>\n",
       "    <tr>\n",
       "      <th>0</th>\n",
       "      <td>mid1</td>\n",
       "      <td>nni_mean</td>\n",
       "      <td>0.947609</td>\n",
       "      <td>-0.023964</td>\n",
       "    </tr>\n",
       "    <tr>\n",
       "      <th>1</th>\n",
       "      <td>mid1</td>\n",
       "      <td>sdnn</td>\n",
       "      <td>0.457679</td>\n",
       "      <td>-0.265942</td>\n",
       "    </tr>\n",
       "    <tr>\n",
       "      <th>2</th>\n",
       "      <td>mid2</td>\n",
       "      <td>nni_mean</td>\n",
       "      <td>0.311880</td>\n",
       "      <td>-0.356541</td>\n",
       "    </tr>\n",
       "    <tr>\n",
       "      <th>3</th>\n",
       "      <td>mid2</td>\n",
       "      <td>sdnn</td>\n",
       "      <td>0.950727</td>\n",
       "      <td>-0.022536</td>\n",
       "    </tr>\n",
       "    <tr>\n",
       "      <th>4</th>\n",
       "      <td>final</td>\n",
       "      <td>nni_mean</td>\n",
       "      <td>0.261435</td>\n",
       "      <td>-0.392852</td>\n",
       "    </tr>\n",
       "    <tr>\n",
       "      <th>5</th>\n",
       "      <td>final</td>\n",
       "      <td>sdnn</td>\n",
       "      <td>0.412567</td>\n",
       "      <td>-0.292248</td>\n",
       "    </tr>\n",
       "  </tbody>\n",
       "</table>\n",
       "</div>"
      ],
      "text/plain": [
       "    term parameter         p       cor\n",
       "0   mid1  nni_mean  0.947609 -0.023964\n",
       "1   mid1      sdnn  0.457679 -0.265942\n",
       "2   mid2  nni_mean  0.311880 -0.356541\n",
       "3   mid2      sdnn  0.950727 -0.022536\n",
       "4  final  nni_mean  0.261435 -0.392852\n",
       "5  final      sdnn  0.412567 -0.292248"
      ]
     },
     "execution_count": 23,
     "metadata": {},
     "output_type": "execute_result"
    }
   ],
   "source": [
    "results_q4a"
   ]
  },
  {
   "cell_type": "markdown",
   "id": "95aec60e-6d39-4645-aa78-b3f58e69f2d1",
   "metadata": {},
   "source": [
    "Answer part1: *the correlations on term-level aren't significant, so they shouldn't be interpreted*"
   ]
  },
  {
   "cell_type": "code",
   "execution_count": 24,
   "id": "28c60c61-c1e3-4404-b0ba-d83b94fb32f7",
   "metadata": {
    "tags": []
   },
   "outputs": [],
   "source": [
    "df_q4_manipulated = df_q4.copy()\n",
    "df_q4_manipulated.loc[df_q4_manipulated['term'] == 'final', 'grade'] = df_q4_manipulated.loc[df_q4_manipulated['term'] == 'final', 'grade'] / 2\n",
    "\n",
    "results_q4b = []\n",
    "for par in ['nni_mean_examen', 'sdnn_examen']:\n",
    "    cor, p = pearsonr(df_q4_manipulated.grade, df_q4_manipulated[par])\n",
    "    results_q4b.append({\n",
    "        'parameter': par[:-7],\n",
    "        'p': p,\n",
    "        'cor': cor\n",
    "    })\n",
    "results_q4b = pd.DataFrame(results_q4b)"
   ]
  },
  {
   "cell_type": "code",
   "execution_count": 25,
   "id": "1acbbf8e-7bb1-4ddb-919a-4ef40ea4a2e7",
   "metadata": {
    "tags": []
   },
   "outputs": [
    {
     "data": {
      "text/html": [
       "<div>\n",
       "<style scoped>\n",
       "    .dataframe tbody tr th:only-of-type {\n",
       "        vertical-align: middle;\n",
       "    }\n",
       "\n",
       "    .dataframe tbody tr th {\n",
       "        vertical-align: top;\n",
       "    }\n",
       "\n",
       "    .dataframe thead th {\n",
       "        text-align: right;\n",
       "    }\n",
       "</style>\n",
       "<table border=\"1\" class=\"dataframe\">\n",
       "  <thead>\n",
       "    <tr style=\"text-align: right;\">\n",
       "      <th></th>\n",
       "      <th>parameter</th>\n",
       "      <th>p</th>\n",
       "      <th>cor</th>\n",
       "    </tr>\n",
       "  </thead>\n",
       "  <tbody>\n",
       "    <tr>\n",
       "      <th>0</th>\n",
       "      <td>nni_mean</td>\n",
       "      <td>0.068796</td>\n",
       "      <td>-0.33677</td>\n",
       "    </tr>\n",
       "    <tr>\n",
       "      <th>1</th>\n",
       "      <td>sdnn</td>\n",
       "      <td>0.829472</td>\n",
       "      <td>0.04105</td>\n",
       "    </tr>\n",
       "  </tbody>\n",
       "</table>\n",
       "</div>"
      ],
      "text/plain": [
       "  parameter         p      cor\n",
       "0  nni_mean  0.068796 -0.33677\n",
       "1      sdnn  0.829472  0.04105"
      ]
     },
     "execution_count": 25,
     "metadata": {},
     "output_type": "execute_result"
    }
   ],
   "source": [
    "results_q4b"
   ]
  },
  {
   "cell_type": "markdown",
   "id": "1e803383-3644-4a5b-8187-0d8ace3d8bb4",
   "metadata": {},
   "source": [
    "Answer part2: over all exames there is an negativ correlation between the nni_mean and the grade. Accodring to the convention of Cohen the effect size is medium."
   ]
  },
  {
   "cell_type": "code",
   "execution_count": 26,
   "id": "0bf093a0-0586-454a-a1a9-a8e482a6e059",
   "metadata": {
    "tags": []
   },
   "outputs": [],
   "source": [
    "model = ols(f\"grade ~ nni_mean_examen \", data=df_q4_manipulated)\n",
    "result_model = model.fit()"
   ]
  },
  {
   "cell_type": "code",
   "execution_count": 27,
   "id": "f28018fc-746d-4c1d-bb5f-990efd6eaf1d",
   "metadata": {
    "tags": []
   },
   "outputs": [
    {
     "data": {
      "text/html": [
       "<table class=\"simpletable\">\n",
       "<caption>OLS Regression Results</caption>\n",
       "<tr>\n",
       "  <th>Dep. Variable:</th>          <td>grade</td>      <th>  R-squared:         </th> <td>   0.113</td>\n",
       "</tr>\n",
       "<tr>\n",
       "  <th>Model:</th>                   <td>OLS</td>       <th>  Adj. R-squared:    </th> <td>   0.082</td>\n",
       "</tr>\n",
       "<tr>\n",
       "  <th>Method:</th>             <td>Least Squares</td>  <th>  F-statistic:       </th> <td>   3.582</td>\n",
       "</tr>\n",
       "<tr>\n",
       "  <th>Date:</th>             <td>Sun, 29 Oct 2023</td> <th>  Prob (F-statistic):</th>  <td>0.0688</td> \n",
       "</tr>\n",
       "<tr>\n",
       "  <th>Time:</th>                 <td>19:18:15</td>     <th>  Log-Likelihood:    </th> <td> -122.02</td>\n",
       "</tr>\n",
       "<tr>\n",
       "  <th>No. Observations:</th>      <td>    30</td>      <th>  AIC:               </th> <td>   248.0</td>\n",
       "</tr>\n",
       "<tr>\n",
       "  <th>Df Residuals:</th>          <td>    28</td>      <th>  BIC:               </th> <td>   250.8</td>\n",
       "</tr>\n",
       "<tr>\n",
       "  <th>Df Model:</th>              <td>     1</td>      <th>                     </th>     <td> </td>   \n",
       "</tr>\n",
       "<tr>\n",
       "  <th>Covariance Type:</th>      <td>nonrobust</td>    <th>                     </th>     <td> </td>   \n",
       "</tr>\n",
       "</table>\n",
       "<table class=\"simpletable\">\n",
       "<tr>\n",
       "         <td></td>            <th>coef</th>     <th>std err</th>      <th>t</th>      <th>P>|t|</th>  <th>[0.025</th>    <th>0.975]</th>  \n",
       "</tr>\n",
       "<tr>\n",
       "  <th>Intercept</th>       <td>  106.2785</td> <td>   16.611</td> <td>    6.398</td> <td> 0.000</td> <td>   72.252</td> <td>  140.305</td>\n",
       "</tr>\n",
       "<tr>\n",
       "  <th>nni_mean_examen</th> <td>   -0.0500</td> <td>    0.026</td> <td>   -1.893</td> <td> 0.069</td> <td>   -0.104</td> <td>    0.004</td>\n",
       "</tr>\n",
       "</table>\n",
       "<table class=\"simpletable\">\n",
       "<tr>\n",
       "  <th>Omnibus:</th>       <td> 4.672</td> <th>  Durbin-Watson:     </th> <td>   2.431</td>\n",
       "</tr>\n",
       "<tr>\n",
       "  <th>Prob(Omnibus):</th> <td> 0.097</td> <th>  Jarque-Bera (JB):  </th> <td>   3.498</td>\n",
       "</tr>\n",
       "<tr>\n",
       "  <th>Skew:</th>          <td>-0.829</td> <th>  Prob(JB):          </th> <td>   0.174</td>\n",
       "</tr>\n",
       "<tr>\n",
       "  <th>Kurtosis:</th>      <td> 3.222</td> <th>  Cond. No.          </th> <td>3.91e+03</td>\n",
       "</tr>\n",
       "</table><br/><br/>Notes:<br/>[1] Standard Errors assume that the covariance matrix of the errors is correctly specified.<br/>[2] The condition number is large, 3.91e+03. This might indicate that there are<br/>strong multicollinearity or other numerical problems."
      ],
      "text/latex": [
       "\\begin{center}\n",
       "\\begin{tabular}{lclc}\n",
       "\\toprule\n",
       "\\textbf{Dep. Variable:}    &      grade       & \\textbf{  R-squared:         } &     0.113   \\\\\n",
       "\\textbf{Model:}            &       OLS        & \\textbf{  Adj. R-squared:    } &     0.082   \\\\\n",
       "\\textbf{Method:}           &  Least Squares   & \\textbf{  F-statistic:       } &     3.582   \\\\\n",
       "\\textbf{Date:}             & Sun, 29 Oct 2023 & \\textbf{  Prob (F-statistic):} &   0.0688    \\\\\n",
       "\\textbf{Time:}             &     19:18:15     & \\textbf{  Log-Likelihood:    } &   -122.02   \\\\\n",
       "\\textbf{No. Observations:} &          30      & \\textbf{  AIC:               } &     248.0   \\\\\n",
       "\\textbf{Df Residuals:}     &          28      & \\textbf{  BIC:               } &     250.8   \\\\\n",
       "\\textbf{Df Model:}         &           1      & \\textbf{                     } &             \\\\\n",
       "\\textbf{Covariance Type:}  &    nonrobust     & \\textbf{                     } &             \\\\\n",
       "\\bottomrule\n",
       "\\end{tabular}\n",
       "\\begin{tabular}{lcccccc}\n",
       "                           & \\textbf{coef} & \\textbf{std err} & \\textbf{t} & \\textbf{P$> |$t$|$} & \\textbf{[0.025} & \\textbf{0.975]}  \\\\\n",
       "\\midrule\n",
       "\\textbf{Intercept}         &     106.2785  &       16.611     &     6.398  &         0.000        &       72.252    &      140.305     \\\\\n",
       "\\textbf{nni\\_mean\\_examen} &      -0.0500  &        0.026     &    -1.893  &         0.069        &       -0.104    &        0.004     \\\\\n",
       "\\bottomrule\n",
       "\\end{tabular}\n",
       "\\begin{tabular}{lclc}\n",
       "\\textbf{Omnibus:}       &  4.672 & \\textbf{  Durbin-Watson:     } &    2.431  \\\\\n",
       "\\textbf{Prob(Omnibus):} &  0.097 & \\textbf{  Jarque-Bera (JB):  } &    3.498  \\\\\n",
       "\\textbf{Skew:}          & -0.829 & \\textbf{  Prob(JB):          } &    0.174  \\\\\n",
       "\\textbf{Kurtosis:}      &  3.222 & \\textbf{  Cond. No.          } & 3.91e+03  \\\\\n",
       "\\bottomrule\n",
       "\\end{tabular}\n",
       "%\\caption{OLS Regression Results}\n",
       "\\end{center}\n",
       "\n",
       "Notes: \\newline\n",
       " [1] Standard Errors assume that the covariance matrix of the errors is correctly specified. \\newline\n",
       " [2] The condition number is large, 3.91e+03. This might indicate that there are \\newline\n",
       " strong multicollinearity or other numerical problems."
      ],
      "text/plain": [
       "<class 'statsmodels.iolib.summary.Summary'>\n",
       "\"\"\"\n",
       "                            OLS Regression Results                            \n",
       "==============================================================================\n",
       "Dep. Variable:                  grade   R-squared:                       0.113\n",
       "Model:                            OLS   Adj. R-squared:                  0.082\n",
       "Method:                 Least Squares   F-statistic:                     3.582\n",
       "Date:                Sun, 29 Oct 2023   Prob (F-statistic):             0.0688\n",
       "Time:                        19:18:15   Log-Likelihood:                -122.02\n",
       "No. Observations:                  30   AIC:                             248.0\n",
       "Df Residuals:                      28   BIC:                             250.8\n",
       "Df Model:                           1                                         \n",
       "Covariance Type:            nonrobust                                         \n",
       "===================================================================================\n",
       "                      coef    std err          t      P>|t|      [0.025      0.975]\n",
       "-----------------------------------------------------------------------------------\n",
       "Intercept         106.2785     16.611      6.398      0.000      72.252     140.305\n",
       "nni_mean_examen    -0.0500      0.026     -1.893      0.069      -0.104       0.004\n",
       "==============================================================================\n",
       "Omnibus:                        4.672   Durbin-Watson:                   2.431\n",
       "Prob(Omnibus):                  0.097   Jarque-Bera (JB):                3.498\n",
       "Skew:                          -0.829   Prob(JB):                        0.174\n",
       "Kurtosis:                       3.222   Cond. No.                     3.91e+03\n",
       "==============================================================================\n",
       "\n",
       "Notes:\n",
       "[1] Standard Errors assume that the covariance matrix of the errors is correctly specified.\n",
       "[2] The condition number is large, 3.91e+03. This might indicate that there are\n",
       "strong multicollinearity or other numerical problems.\n",
       "\"\"\""
      ]
     },
     "execution_count": 27,
     "metadata": {},
     "output_type": "execute_result"
    }
   ],
   "source": [
    "result_model.summary()"
   ]
  },
  {
   "cell_type": "code",
   "execution_count": 28,
   "id": "362b9744-dad3-40bb-bba4-cea45eacca3b",
   "metadata": {
    "tags": []
   },
   "outputs": [
    {
     "data": {
      "text/plain": [
       "102.79878843152046"
      ]
     },
     "execution_count": 28,
     "metadata": {},
     "output_type": "execute_result"
    }
   ],
   "source": [
    "df_q4.nni_mean_examen.std()"
   ]
  },
  {
   "cell_type": "markdown",
   "id": "070b574e-2826-4ded-a3c5-be337e348650",
   "metadata": {},
   "source": [
    "Answer part3: *The p-value for the regression weight of nni_mean isn't smaller then 0.05 but close to that. Subject to reservation, depending on this result it can be said that an increas of nni_mean by 0.05 worsens the perfomence of the students by one point. But depending on the high standarddeviasion in hrv-measures (102.8) the relation between hrv during examen and grade seems redundant*"
   ]
  }
 ],
 "metadata": {
  "kernelspec": {
   "display_name": "Python 3 (ipykernel)",
   "language": "python",
   "name": "python3"
  },
  "language_info": {
   "codemirror_mode": {
    "name": "ipython",
    "version": 3
   },
   "file_extension": ".py",
   "mimetype": "text/x-python",
   "name": "python",
   "nbconvert_exporter": "python",
   "pygments_lexer": "ipython3",
   "version": "3.8.6"
  }
 },
 "nbformat": 4,
 "nbformat_minor": 5
}
